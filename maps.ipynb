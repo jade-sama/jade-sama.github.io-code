{
 "cells": [
  {
   "cell_type": "markdown",
   "metadata": {},
   "source": [
    "# Country Maps"
   ]
  },
  {
   "cell_type": "code",
   "execution_count": 9,
   "metadata": {},
   "outputs": [],
   "source": [
    "import plotly.plotly as py\n",
    "import plotly.offline as offline\n",
    "from plotly.graph_objs import *\n",
    "\n",
    "import pandas as pd\n",
    "import os.path\n",
    "\n",
    "import geocoder\n",
    "from geopy.distance import vincenty as geodistance\n",
    "\n",
    "import oauth2client\n",
    "\n",
    "import gspread\n",
    "from oauth2client.service_account import ServiceAccountCredentials"
   ]
  },
  {
   "cell_type": "markdown",
   "metadata": {},
   "source": [
    "Provide parameters"
   ]
  },
  {
   "cell_type": "code",
   "execution_count": 11,
   "metadata": {
    "collapsed": true
   },
   "outputs": [],
   "source": [
    "WorkbookTitle = \"Azja 2017\"\n",
    "SheetName = \"tajwan\"\n",
    "\n",
    "BlogColours = [\"#15A9DB\",\"#CCC\",\"#999\", \"#FFF\", \"#C7254E\", \"#073642\"]\n",
    "\n",
    "Ratio = 16.0/9.0\n",
    "adj = 450.0/430.0\n",
    "Ratio = Ratio / adj\n",
    "iw = 800\n",
    "ih = 450\n",
    "\n",
    "path = os.path.expanduser(\"~/Downloads/\")"
   ]
  },
  {
   "cell_type": "markdown",
   "metadata": {},
   "source": [
    "Read spreadsheet"
   ]
  },
  {
   "cell_type": "code",
   "execution_count": 12,
   "metadata": {
    "collapsed": true
   },
   "outputs": [],
   "source": [
    "# use creds to create a client to interact with the Google Drive API\n",
    "scope = ['https://spreadsheets.google.com/feeds']\n",
    "creds = ServiceAccountCredentials.from_json_keyfile_name('client_secret.json', scope)\n",
    "client = gspread.authorize(creds)\n",
    " \n",
    "# open sheet and save as dataframe\n",
    "sheet = client.open(WorkbookTitle).worksheet(SheetName)\n",
    "df = pd.DataFrame(sheet.get_all_records())\n",
    "df = df[df['Return'] >= 0]\n",
    "df = df[df['Arrival'] != \"\"]"
   ]
  },
  {
   "cell_type": "code",
   "execution_count": 13,
   "metadata": {},
   "outputs": [
    {
     "data": {
      "text/html": [
       "<div>\n",
       "<style>\n",
       "    .dataframe thead tr:only-child th {\n",
       "        text-align: right;\n",
       "    }\n",
       "\n",
       "    .dataframe thead th {\n",
       "        text-align: left;\n",
       "    }\n",
       "\n",
       "    .dataframe tbody tr th {\n",
       "        vertical-align: top;\n",
       "    }\n",
       "</style>\n",
       "<table border=\"1\" class=\"dataframe\">\n",
       "  <thead>\n",
       "    <tr style=\"text-align: right;\">\n",
       "      <th></th>\n",
       "      <th>Arrival</th>\n",
       "      <th>ArrivalDate</th>\n",
       "      <th>ArrivalName</th>\n",
       "      <th>Category</th>\n",
       "      <th>CategoryName</th>\n",
       "      <th>Departure</th>\n",
       "      <th>DepartureDate</th>\n",
       "      <th>DepartureName</th>\n",
       "      <th>LeaveDate</th>\n",
       "      <th>Length</th>\n",
       "      <th>Link</th>\n",
       "      <th>Return</th>\n",
       "      <th>TransportToArrival</th>\n",
       "    </tr>\n",
       "  </thead>\n",
       "  <tbody>\n",
       "    <tr>\n",
       "      <th>0</th>\n",
       "      <td>Taipei</td>\n",
       "      <td>2017-08-28</td>\n",
       "      <td>Tajpej</td>\n",
       "      <td>Taiwan</td>\n",
       "      <td>Tajwan</td>\n",
       "      <td></td>\n",
       "      <td></td>\n",
       "      <td></td>\n",
       "      <td>2017-09-09</td>\n",
       "      <td>13</td>\n",
       "      <td>http://jade-sama.github.io/wyprawy/azja-2017/t...</td>\n",
       "      <td>0</td>\n",
       "      <td>Plane</td>\n",
       "    </tr>\n",
       "    <tr>\n",
       "      <th>1</th>\n",
       "      <td>Taichung</td>\n",
       "      <td>2017-09-09</td>\n",
       "      <td>Taizhong</td>\n",
       "      <td>Taiwan</td>\n",
       "      <td>Tajwan</td>\n",
       "      <td></td>\n",
       "      <td></td>\n",
       "      <td></td>\n",
       "      <td>2017-09-09</td>\n",
       "      <td>1</td>\n",
       "      <td>http://jade-sama.github.io/wyprawy/azja-2017/t...</td>\n",
       "      <td>0</td>\n",
       "      <td>Train</td>\n",
       "    </tr>\n",
       "    <tr>\n",
       "      <th>2</th>\n",
       "      <td>Sun Moon Lake</td>\n",
       "      <td>2017-09-09</td>\n",
       "      <td>Jezioro Slonca i Ksiezyca</td>\n",
       "      <td>Taiwan</td>\n",
       "      <td>Tajwan</td>\n",
       "      <td></td>\n",
       "      <td></td>\n",
       "      <td></td>\n",
       "      <td>2017-09-12</td>\n",
       "      <td>4</td>\n",
       "      <td>http://jade-sama.github.io/wyprawy/azja-2017/t...</td>\n",
       "      <td>1</td>\n",
       "      <td>Bus</td>\n",
       "    </tr>\n",
       "    <tr>\n",
       "      <th>4</th>\n",
       "      <td>Tainan</td>\n",
       "      <td>2017-09-12</td>\n",
       "      <td>Tainan</td>\n",
       "      <td>Taiwan</td>\n",
       "      <td>Tajwan</td>\n",
       "      <td></td>\n",
       "      <td></td>\n",
       "      <td></td>\n",
       "      <td>2017-09-15</td>\n",
       "      <td>4</td>\n",
       "      <td>http://jade-sama.github.io/wyprawy/azja-2017/t...</td>\n",
       "      <td>0</td>\n",
       "      <td>Train</td>\n",
       "    </tr>\n",
       "    <tr>\n",
       "      <th>5</th>\n",
       "      <td>Hualien</td>\n",
       "      <td>2017-09-15</td>\n",
       "      <td>Hualian</td>\n",
       "      <td>Taiwan</td>\n",
       "      <td>Tajwan</td>\n",
       "      <td></td>\n",
       "      <td></td>\n",
       "      <td></td>\n",
       "      <td>2017-09-15</td>\n",
       "      <td>1</td>\n",
       "      <td>http://jade-sama.github.io/wyprawy/azja-2017/t...</td>\n",
       "      <td>0</td>\n",
       "      <td>Train</td>\n",
       "    </tr>\n",
       "    <tr>\n",
       "      <th>6</th>\n",
       "      <td>Taroko National Park</td>\n",
       "      <td>2017-09-15</td>\n",
       "      <td>Park Narodowy Taroko</td>\n",
       "      <td>Taiwan</td>\n",
       "      <td>Tajwan</td>\n",
       "      <td></td>\n",
       "      <td></td>\n",
       "      <td></td>\n",
       "      <td>2017-09-15</td>\n",
       "      <td>1</td>\n",
       "      <td>http://jade-sama.github.io/wyprawy/azja-2017/t...</td>\n",
       "      <td>1</td>\n",
       "      <td>Bus</td>\n",
       "    </tr>\n",
       "    <tr>\n",
       "      <th>8</th>\n",
       "      <td>Taitung</td>\n",
       "      <td>2017-09-18</td>\n",
       "      <td>Taidong</td>\n",
       "      <td>Taiwan</td>\n",
       "      <td>Tajwan</td>\n",
       "      <td></td>\n",
       "      <td></td>\n",
       "      <td></td>\n",
       "      <td>2017-09-21</td>\n",
       "      <td>4</td>\n",
       "      <td>http://jade-sama.github.io/wyprawy/azja-2017/t...</td>\n",
       "      <td>0</td>\n",
       "      <td>Train</td>\n",
       "    </tr>\n",
       "    <tr>\n",
       "      <th>9</th>\n",
       "      <td>Tainan</td>\n",
       "      <td>2017-09-21</td>\n",
       "      <td>Tainan</td>\n",
       "      <td>Taiwan</td>\n",
       "      <td>Tajwan</td>\n",
       "      <td></td>\n",
       "      <td></td>\n",
       "      <td></td>\n",
       "      <td>2017-09-21</td>\n",
       "      <td>1</td>\n",
       "      <td>http://jade-sama.github.io/wyprawy/azja-2017/t...</td>\n",
       "      <td>0</td>\n",
       "      <td>Train</td>\n",
       "    </tr>\n",
       "    <tr>\n",
       "      <th>10</th>\n",
       "      <td>Ananda Suruci</td>\n",
       "      <td>2017-09-21</td>\n",
       "      <td>Farma Ananda Suruci</td>\n",
       "      <td>Taiwan</td>\n",
       "      <td>Tajwan</td>\n",
       "      <td></td>\n",
       "      <td></td>\n",
       "      <td></td>\n",
       "      <td>2017-10-12</td>\n",
       "      <td>22</td>\n",
       "      <td>http://jade-sama.github.io/wyprawy/azja-2017/t...</td>\n",
       "      <td>1</td>\n",
       "      <td>Bus</td>\n",
       "    </tr>\n",
       "    <tr>\n",
       "      <th>12</th>\n",
       "      <td>Kaohsiung International Airport</td>\n",
       "      <td>2017-10-12</td>\n",
       "      <td>Port Lotniczy Kaohsiung</td>\n",
       "      <td>Taiwan</td>\n",
       "      <td>Tajwan</td>\n",
       "      <td></td>\n",
       "      <td></td>\n",
       "      <td></td>\n",
       "      <td>2017-10-12</td>\n",
       "      <td>1</td>\n",
       "      <td>http://jade-sama.github.io/wyprawy/azja-2017/t...</td>\n",
       "      <td>0</td>\n",
       "      <td>Train</td>\n",
       "    </tr>\n",
       "  </tbody>\n",
       "</table>\n",
       "</div>"
      ],
      "text/plain": [
       "                            Arrival ArrivalDate                ArrivalName  \\\n",
       "0                            Taipei  2017-08-28                     Tajpej   \n",
       "1                          Taichung  2017-09-09                   Taizhong   \n",
       "2                     Sun Moon Lake  2017-09-09  Jezioro Slonca i Ksiezyca   \n",
       "4                            Tainan  2017-09-12                     Tainan   \n",
       "5                           Hualien  2017-09-15                    Hualian   \n",
       "6              Taroko National Park  2017-09-15       Park Narodowy Taroko   \n",
       "8                           Taitung  2017-09-18                    Taidong   \n",
       "9                            Tainan  2017-09-21                     Tainan   \n",
       "10                    Ananda Suruci  2017-09-21        Farma Ananda Suruci   \n",
       "12  Kaohsiung International Airport  2017-10-12    Port Lotniczy Kaohsiung   \n",
       "\n",
       "   Category CategoryName Departure DepartureDate DepartureName   LeaveDate  \\\n",
       "0    Taiwan       Tajwan                                        2017-09-09   \n",
       "1    Taiwan       Tajwan                                        2017-09-09   \n",
       "2    Taiwan       Tajwan                                        2017-09-12   \n",
       "4    Taiwan       Tajwan                                        2017-09-15   \n",
       "5    Taiwan       Tajwan                                        2017-09-15   \n",
       "6    Taiwan       Tajwan                                        2017-09-15   \n",
       "8    Taiwan       Tajwan                                        2017-09-21   \n",
       "9    Taiwan       Tajwan                                        2017-09-21   \n",
       "10   Taiwan       Tajwan                                        2017-10-12   \n",
       "12   Taiwan       Tajwan                                        2017-10-12   \n",
       "\n",
       "   Length                                               Link Return  \\\n",
       "0      13  http://jade-sama.github.io/wyprawy/azja-2017/t...      0   \n",
       "1       1  http://jade-sama.github.io/wyprawy/azja-2017/t...      0   \n",
       "2       4  http://jade-sama.github.io/wyprawy/azja-2017/t...      1   \n",
       "4       4  http://jade-sama.github.io/wyprawy/azja-2017/t...      0   \n",
       "5       1  http://jade-sama.github.io/wyprawy/azja-2017/t...      0   \n",
       "6       1  http://jade-sama.github.io/wyprawy/azja-2017/t...      1   \n",
       "8       4  http://jade-sama.github.io/wyprawy/azja-2017/t...      0   \n",
       "9       1  http://jade-sama.github.io/wyprawy/azja-2017/t...      0   \n",
       "10     22  http://jade-sama.github.io/wyprawy/azja-2017/t...      1   \n",
       "12      1  http://jade-sama.github.io/wyprawy/azja-2017/t...      0   \n",
       "\n",
       "   TransportToArrival  \n",
       "0               Plane  \n",
       "1               Train  \n",
       "2                 Bus  \n",
       "4               Train  \n",
       "5               Train  \n",
       "6                 Bus  \n",
       "8               Train  \n",
       "9               Train  \n",
       "10                Bus  \n",
       "12              Train  "
      ]
     },
     "execution_count": 13,
     "metadata": {},
     "output_type": "execute_result"
    }
   ],
   "source": [
    "df"
   ]
  },
  {
   "cell_type": "markdown",
   "metadata": {},
   "source": [
    "Generate Map"
   ]
  },
  {
   "cell_type": "code",
   "execution_count": 14,
   "metadata": {
    "collapsed": true
   },
   "outputs": [],
   "source": [
    "def create_map(country_name, city_lat, city_lon, min_lon, min_lat, max_lon, max_lat):\n",
    "    country = [\n",
    "        Choropleth(\n",
    "            locationmode = 'country names',\n",
    "            locations = [country_name],\n",
    "            z = [1],\n",
    "            colorscale = [[0,BlogColours[2]],[1, BlogColours[2]]],\n",
    "            autocolorscale = False,\n",
    "            showscale = False,\n",
    "            marker = dict(line = dict(width = 0))\n",
    "        )\n",
    "    ]\n",
    "\n",
    "    city = [\n",
    "        Scattergeo(\n",
    "            lat = [city_lat],\n",
    "            lon = [city_lon],\n",
    "            mode = 'markers',\n",
    "            marker = dict(\n",
    "                size = 28,\n",
    "                opacity = 1,\n",
    "                color = BlogColours[0],\n",
    "                line = dict(width = 1, color = BlogColours[3]))\n",
    "            )\n",
    "    ]\n",
    "\n",
    "    layout = Layout(\n",
    "        geo = dict(\n",
    "            projection = dict(type = \"equirectangular\"),\n",
    "            lataxis = dict(range = [min_lat, max_lat]),\n",
    "            lonaxis = dict(range = [min_lon, max_lon]),\n",
    "            showframe = False,\n",
    "            showland = True,\n",
    "            showcountries = False,\n",
    "            showlakes = False,\n",
    "            showcoastlines = False,\n",
    "            landcolor = BlogColours[1],\n",
    "            bgcolor = BlogColours[3]\n",
    "        ),\n",
    "        autosize = True,\n",
    "        margin = dict(l = 0, r = 0, t = 0, b = 0, pad = 0),\n",
    "        titlefont = dict (size = 1),\n",
    "    )\n",
    "\n",
    "    return dict(data=country+city, layout=layout)\n"
   ]
  },
  {
   "cell_type": "markdown",
   "metadata": {},
   "source": [
    "Scale map boundries so the map has the right height/wight ratio (projection adj not included yet)"
   ]
  },
  {
   "cell_type": "code",
   "execution_count": 15,
   "metadata": {
    "collapsed": true
   },
   "outputs": [],
   "source": [
    "def scale_map_boundries (min_lon, min_lat, max_lon, max_lat):\n",
    "\n",
    "    diff_lat = abs(max_lat-min_lat)\n",
    "    diff_lon = abs(max_lon-min_lon)\n",
    "    avg_lat = (max_lat+min_lat)/2\n",
    "    avg_lon = (max_lon+min_lon)/2\n",
    "\n",
    "    diff_lat_km = geodistance((min_lat,avg_lon), (max_lat,avg_lon)).km\n",
    "    diff_lon_km = geodistance((avg_lat,min_lon), (avg_lat,max_lon)).km \n",
    "    \n",
    "    if diff_lon_km/diff_lat_km > Ratio:\n",
    "        min_lat=avg_lat-(diff_lon_km/diff_lat_km)/Ratio*diff_lat/2\n",
    "        max_lat=avg_lat+(diff_lon_km/diff_lat_km)/Ratio*diff_lat/2\n",
    "\n",
    "    elif diff_lon_km/diff_lat_km < Ratio:\n",
    "        min_lon=avg_lon-Ratio/(diff_lon_km/diff_lat_km)*diff_lon/2\n",
    "        max_lon=avg_lon+Ratio/(diff_lon_km/diff_lat_km)*diff_lon/2\n",
    "\n",
    "    return [min_lon, min_lat, max_lon, max_lat]"
   ]
  },
  {
   "cell_type": "markdown",
   "metadata": {},
   "source": [
    "Iterate through rows in dataframe and save each map"
   ]
  },
  {
   "cell_type": "code",
   "execution_count": 36,
   "metadata": {},
   "outputs": [],
   "source": [
    "country = geocoder.google(df.iloc[0]['Category'])\n",
    "map_boundries = country.geojson['features'][0]['bbox']\n",
    "map_boundries = scale_map_boundries(map_boundries[0],map_boundries[1],map_boundries[2],map_boundries[3])"
   ]
  },
  {
   "cell_type": "code",
   "execution_count": 37,
   "metadata": {},
   "outputs": [
    {
     "name": "stdout",
     "output_type": "stream",
     "text": [
      "C:\\Users\\Dorota/Downloads/tajpej.png\n"
     ]
    },
    {
     "name": "stderr",
     "output_type": "stream",
     "text": [
      "IOPub data rate exceeded.\n",
      "The notebook server will temporarily stop sending output\n",
      "to the client in order to avoid crashing it.\n",
      "To change this limit, set the config variable\n",
      "`--NotebookApp.iopub_data_rate_limit`.\n"
     ]
    },
    {
     "name": "stdout",
     "output_type": "stream",
     "text": [
      "C:\\Users\\Dorota/Downloads/taizhong.png\n"
     ]
    },
    {
     "name": "stderr",
     "output_type": "stream",
     "text": [
      "IOPub data rate exceeded.\n",
      "The notebook server will temporarily stop sending output\n",
      "to the client in order to avoid crashing it.\n",
      "To change this limit, set the config variable\n",
      "`--NotebookApp.iopub_data_rate_limit`.\n"
     ]
    },
    {
     "name": "stdout",
     "output_type": "stream",
     "text": [
      "C:\\Users\\Dorota/Downloads/jezioro-slonca-i-ksiezyca.png\n"
     ]
    },
    {
     "name": "stderr",
     "output_type": "stream",
     "text": [
      "IOPub data rate exceeded.\n",
      "The notebook server will temporarily stop sending output\n",
      "to the client in order to avoid crashing it.\n",
      "To change this limit, set the config variable\n",
      "`--NotebookApp.iopub_data_rate_limit`.\n"
     ]
    },
    {
     "name": "stdout",
     "output_type": "stream",
     "text": [
      "C:\\Users\\Dorota/Downloads/tainan.png\n"
     ]
    },
    {
     "name": "stderr",
     "output_type": "stream",
     "text": [
      "IOPub data rate exceeded.\n",
      "The notebook server will temporarily stop sending output\n",
      "to the client in order to avoid crashing it.\n",
      "To change this limit, set the config variable\n",
      "`--NotebookApp.iopub_data_rate_limit`.\n"
     ]
    },
    {
     "name": "stdout",
     "output_type": "stream",
     "text": [
      "C:\\Users\\Dorota/Downloads/hualian.png\n"
     ]
    },
    {
     "name": "stderr",
     "output_type": "stream",
     "text": [
      "IOPub data rate exceeded.\n",
      "The notebook server will temporarily stop sending output\n",
      "to the client in order to avoid crashing it.\n",
      "To change this limit, set the config variable\n",
      "`--NotebookApp.iopub_data_rate_limit`.\n"
     ]
    },
    {
     "name": "stdout",
     "output_type": "stream",
     "text": [
      "C:\\Users\\Dorota/Downloads/park-narodowy-taroko.png\n"
     ]
    },
    {
     "name": "stderr",
     "output_type": "stream",
     "text": [
      "IOPub data rate exceeded.\n",
      "The notebook server will temporarily stop sending output\n",
      "to the client in order to avoid crashing it.\n",
      "To change this limit, set the config variable\n",
      "`--NotebookApp.iopub_data_rate_limit`.\n"
     ]
    },
    {
     "name": "stdout",
     "output_type": "stream",
     "text": [
      "C:\\Users\\Dorota/Downloads/taidong.png\n"
     ]
    },
    {
     "name": "stderr",
     "output_type": "stream",
     "text": [
      "IOPub data rate exceeded.\n",
      "The notebook server will temporarily stop sending output\n",
      "to the client in order to avoid crashing it.\n",
      "To change this limit, set the config variable\n",
      "`--NotebookApp.iopub_data_rate_limit`.\n"
     ]
    },
    {
     "name": "stdout",
     "output_type": "stream",
     "text": [
      "C:\\Users\\Dorota/Downloads/tainan.png\n"
     ]
    },
    {
     "name": "stderr",
     "output_type": "stream",
     "text": [
      "IOPub data rate exceeded.\n",
      "The notebook server will temporarily stop sending output\n",
      "to the client in order to avoid crashing it.\n",
      "To change this limit, set the config variable\n",
      "`--NotebookApp.iopub_data_rate_limit`.\n"
     ]
    },
    {
     "name": "stdout",
     "output_type": "stream",
     "text": [
      "C:\\Users\\Dorota/Downloads/farma-ananda-suruci.png\n"
     ]
    },
    {
     "name": "stderr",
     "output_type": "stream",
     "text": [
      "IOPub data rate exceeded.\n",
      "The notebook server will temporarily stop sending output\n",
      "to the client in order to avoid crashing it.\n",
      "To change this limit, set the config variable\n",
      "`--NotebookApp.iopub_data_rate_limit`.\n"
     ]
    },
    {
     "name": "stdout",
     "output_type": "stream",
     "text": [
      "C:\\Users\\Dorota/Downloads/port-lotniczy-kaohsiung.png\n"
     ]
    },
    {
     "name": "stderr",
     "output_type": "stream",
     "text": [
      "IOPub data rate exceeded.\n",
      "The notebook server will temporarily stop sending output\n",
      "to the client in order to avoid crashing it.\n",
      "To change this limit, set the config variable\n",
      "`--NotebookApp.iopub_data_rate_limit`.\n"
     ]
    }
   ],
   "source": [
    " for i, row in df.iterrows():\n",
    "        \n",
    "    fname = row['ArrivalName'].replace(\" \", \"-\").lower()\n",
    "    \n",
    "    if not(os.path.isfile(path + fname + \".png\")):\n",
    "    \n",
    "        print path + fname + \".png\"\n",
    "\n",
    "        city = geocoder.google(row['Arrival'])\n",
    "        country = geocoder.google(row['Category'])\n",
    "\n",
    "        fig = create_map(row['Category'], city.latlng[0], city.latlng[1],\n",
    "                         map_boundries[0],map_boundries[1],map_boundries[2],map_boundries[3])\n",
    "        \n",
    "        offline.init_notebook_mode()\n",
    "        offline.plot(fig,\n",
    "                 filename = fname + \".html\",\n",
    "                 image='png',\n",
    "                 image_filename = fname,\n",
    "                 image_height = ih,\n",
    "                 image_width = iw,\n",
    "                 #auto_open = False\n",
    "        )\n"
   ]
  }
 ],
 "metadata": {
  "kernelspec": {
   "display_name": "Python 2",
   "language": "python",
   "name": "python2"
  },
  "language_info": {
   "codemirror_mode": {
    "name": "ipython",
    "version": 2
   },
   "file_extension": ".py",
   "mimetype": "text/x-python",
   "name": "python",
   "nbconvert_exporter": "python",
   "pygments_lexer": "ipython2",
   "version": "2.7.13"
  }
 },
 "nbformat": 4,
 "nbformat_minor": 2
}
